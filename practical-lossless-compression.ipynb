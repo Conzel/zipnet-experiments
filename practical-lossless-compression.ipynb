{
 "metadata": {
  "language_info": {
   "codemirror_mode": {
    "name": "ipython",
    "version": 3
   },
   "file_extension": ".py",
   "mimetype": "text/x-python",
   "name": "python",
   "nbconvert_exporter": "python",
   "pygments_lexer": "ipython3",
   "version": "3.9.5"
  },
  "orig_nbformat": 2,
  "kernelspec": {
   "name": "python395jvsc74a57bd09d5cec87489219aa2766a3d251da2f8473bdf52470cc3a43da3b1747c2877b23",
   "display_name": "Python 3.9.5 64-bit ('zne': conda)"
  },
  "metadata": {
   "interpreter": {
    "hash": "9d5cec87489219aa2766a3d251da2f8473bdf52470cc3a43da3b1747c2877b23"
   }
  }
 },
 "nbformat": 4,
 "nbformat_minor": 2,
 "cells": [
  {
   "source": [
    "# Lossless compression with VAEs\n",
    "In this notebook, we want to show some practical examples of lossless compression using neural nets, in particular VAEs in combination with some techniques demonstrated at some recent ICLR papers.\n",
    "\n",
    "We will start off with a one-layer VAE in the spirit of https://arxiv.org/abs/1901.04866."
   ],
   "cell_type": "markdown",
   "metadata": {}
  },
  {
   "cell_type": "code",
   "execution_count": 8,
   "metadata": {},
   "outputs": [],
   "source": [
    "import numpy as np\n",
    "import tensorflow as tf\n",
    "import tensorflow_probability as tfp\n",
    "from tensorflow import keras\n",
    "from tensorflow.keras import layers\n",
    "import tensorflow_datasets as tfds\n",
    "\n",
    "tfd = tfp.distributions\n",
    "tfpl = tfp.layers\n",
    "tfk = tf.keras\n",
    "tfkl = tf.keras.layers"
   ]
  },
  {
   "source": [
    "## How to build a lossless encoder from a VAE\n",
    "\n",
    "![Graphical depiction of a VAE](https://miro.medium.com/max/3096/1*Q5dogodt3wzKKktE0v3dMQ@2x.png)\n",
    "Image taken from https://towardsdatascience.com/understanding-variational-autoencoders-vaes-f70510919f73.\n",
    "\n",
    "A VAE is a neural network that consists of two parts, and encoder and a decoder, which are connected through their middle layer, the latent space. Usually, the dimension of the latent space is a lot smaller than the input space and can be interpreted as a lower dimensional representation of the input data x. The job of the encoder is then to transform the input data into the latent space, and the job of the decoder is to transform the latent space representation back to something closely resembling the original image. \n",
    "\n",
    "In contrast to a normal Autoencoder, the encoder in the VAE does not produce a latent vector directly, but instead outputs the parameters of a probability distribution over the latents, given x. From this, we can then sample one specific z, and the decoder tries to reconstruct the original x with this sample. Thus, a VAE learns probability distributions over the data. With this framework, we can also view an autoencoder in terms of the probability distributions that they produce:\n",
    "- encoder: $p(z|x)$\n",
    "- decoder: $p(x|z)$\n",
    "- prior:   $p(z)$\n",
    "Where the prior is given implicitly through the loss function we use when training the VAE. Note that in this framework, we also have to let the decoding network output a probability distribution!\n",
    "\n",
    "Using these probability distributions, we can employ a simple entropy coding scheme."
   ],
   "cell_type": "markdown",
   "metadata": {}
  },
  {
   "source": [
    "## Buildding a VAE\n",
    "Following https://towardsdatascience.com/6-different-ways-of-implementing-vae-with-tensorflow-2-and-tensorflow-probability-9fe34a8ab981"
   ],
   "cell_type": "markdown",
   "metadata": {}
  },
  {
   "source": [
    "### Setting up model architecture\n",
    "\n",
    "We use a simple, fully connected neural network, where we orient ourselves at the description for binarized MNIST in the paper by Townsend. Townsend used a FC-FF network with a hidden layer dimension of 100, and a latent dimension of 40. \n",
    "\n",
    "For the latent variables, we have a normal distribution $p(z \\mid x) = \\mathcal{N}(\\mu(x), \\sigma(x))$, where $\\mu, \\sigma$ are functions parametrized by the encoder network.\n",
    "\n",
    "For the output variables, we have Bernoulli Distribution $p(x \\mid z) = \\text{Ber}(p)$. For regular MNIST, one could use a Beta-Binomial (generalization of a Beta distribution to discrete outputs)."
   ],
   "cell_type": "markdown",
   "metadata": {}
  },
  {
   "cell_type": "code",
   "execution_count": 9,
   "metadata": {},
   "outputs": [],
   "source": [
    "# the negative of log-likelihood for probabilistic output\n",
    "negative_log_likelihood = lambda x, rv_x: -rv_x.log_prob(x)\n",
    "\n",
    "class VAE_MNIST:\n",
    "    \n",
    "    def __init__(self, dim_z, kl_weight, learning_rate):\n",
    "        self.dim_x = (28, 28, 1)\n",
    "        self.dim_z = dim_z\n",
    "        self.kl_weight = kl_weight\n",
    "        self.learning_rate = learning_rate\n",
    "        # define prior distribution for the code, which is an isotropic Gaussian\n",
    "        self.prior = tfd.Independent(tfd.Normal(loc=tf.zeros(self.dim_z), scale=1.), \n",
    "                                reinterpreted_batch_ndims=1)\n",
    "\n",
    "    # Sequential API encoder\n",
    "    def encoder_z(self):\n",
    "        # build layers argument for tfk.Sequential()\n",
    "        input_shape = self.dim_x\n",
    "        layers = [tfkl.InputLayer(input_shape=input_shape)]\n",
    "        layers.append(tfkl.Conv2D(filters=32, kernel_size=3, strides=(2,2), \n",
    "                                  padding='valid', activation='relu'))\n",
    "        layers.append(tfkl.Conv2D(filters=64, kernel_size=3, strides=(2,2), \n",
    "                                  padding='valid', activation='relu'))\n",
    "        layers.append(tfkl.Flatten())\n",
    "        # the following two lines set the output to be a probabilistic distribution\n",
    "        layers.append(tfkl.Dense(tfpl.IndependentNormal.params_size(self.dim_z), \n",
    "                                 activation=None, name='z_params'))\n",
    "        layers.append(tfpl.IndependentNormal(self.dim_z, \n",
    "            convert_to_tensor_fn=tfd.Distribution.sample, \n",
    "            activity_regularizer=tfpl.KLDivergenceRegularizer(self.prior, weight=self.kl_weight), \n",
    "            name='z_layer'))\n",
    "        return tfk.Sequential(layers, name='encoder')\n",
    "    \n",
    "    # Sequential API decoder\n",
    "    def decoder_x(self):\n",
    "        layers = [tfkl.InputLayer(input_shape=self.dim_z)]\n",
    "        layers.append(tfkl.Dense(7*7*32, activation=None))\n",
    "        layers.append(tfkl.Reshape((7,7,32)))\n",
    "        layers.append(tfkl.Conv2DTranspose(filters=64, kernel_size=3, strides=2, \n",
    "                                           padding='same', activation='relu'))\n",
    "        layers.append(tfkl.Conv2DTranspose(filters=32, kernel_size=3, strides=2, \n",
    "                                           padding='same', activation='relu'))\n",
    "        layers.append(tfkl.Conv2DTranspose(filters=1, kernel_size=3, strides=1, \n",
    "                                           padding='same'))\n",
    "        layers.append(tfkl.Flatten(name='x_params'))\n",
    "        # note that here we don't need \n",
    "        # `tfkl.Dense(tfpl.IndependentBernoulli.params_size(self.dim_x))` because \n",
    "        # we've restored the desired input shape with the last Conv2DTranspose layer\n",
    "        layers.append(tfpl.IndependentBernoulli(self.dim_x, name='x_layer'))\n",
    "        return tfk.Sequential(layers, name='decoder')\n",
    "    \n",
    "    def build_vae_keras_model(self):\n",
    "        x_input = tfk.Input(shape=self.dim_x)\n",
    "        encoder = self.encoder_z()\n",
    "        decoder = self.decoder_x()\n",
    "        z = encoder(x_input)\n",
    "\n",
    "        # compile VAE model\n",
    "        model = tfk.Model(inputs=x_input, outputs=decoder(z))\n",
    "        model.compile(loss=negative_log_likelihood, \n",
    "                      optimizer=tfk.optimizers.Adam(self.learning_rate))\n",
    "        return model\n"
   ]
  },
  {
   "source": [
    "### Training\n",
    "We used binarized MNIST."
   ],
   "cell_type": "markdown",
   "metadata": {}
  },
  {
   "source": [
    "datasets, datasets_info = tfds.load(name='mnist',\n",
    "                                    with_info=True,\n",
    "                                    as_supervised=False)\n",
    "\n",
    "input_shape = datasets_info.features['image'].shape\n",
    "\n",
    "def _preprocess(sample):\n",
    "  image = tf.cast(sample['image'], tf.float32) / 255.  # Scale to unit interval.\n",
    "  image = image < tf.random.uniform(tf.shape(image))   # Randomly binarize.\n",
    "  return image, image\n",
    "\n",
    "train_dataset = (datasets['train']\n",
    "                 .map(_preprocess)\n",
    "                 .batch(256)\n",
    "                 .prefetch(tf.data.experimental.AUTOTUNE)\n",
    "                 .shuffle(int(10e3)))\n",
    "eval_dataset = (datasets['test']\n",
    "                .map(_preprocess)\n",
    "                .batch(256)\n",
    "                .prefetch(tf.data.experimental.AUTOTUNE))"
   ],
   "cell_type": "code",
   "metadata": {},
   "execution_count": 10,
   "outputs": [
    {
     "output_type": "stream",
     "name": "stdout",
     "text": [
      "WARNING:tensorflow:AutoGraph could not transform <function _preprocess at 0x7f55c2ac49d0> and will run it as-is.\n",
      "Please report this to the TensorFlow team. When filing the bug, set the verbosity to 10 (on Linux, `export AUTOGRAPH_VERBOSITY=10`) and attach the full output.\n",
      "Cause: module 'gast' has no attribute 'Index'\n",
      "To silence this warning, decorate the function with @tf.autograph.experimental.do_not_convert\n",
      "WARNING:tensorflow:AutoGraph could not transform <function _preprocess at 0x7f55c2ac49d0> and will run it as-is.\n",
      "Please report this to the TensorFlow team. When filing the bug, set the verbosity to 10 (on Linux, `export AUTOGRAPH_VERBOSITY=10`) and attach the full output.\n",
      "Cause: module 'gast' has no attribute 'Index'\n",
      "To silence this warning, decorate the function with @tf.autograph.experimental.do_not_convert\n",
      "WARNING: AutoGraph could not transform <function _preprocess at 0x7f55c2ac49d0> and will run it as-is.\n",
      "Please report this to the TensorFlow team. When filing the bug, set the verbosity to 10 (on Linux, `export AUTOGRAPH_VERBOSITY=10`) and attach the full output.\n",
      "Cause: module 'gast' has no attribute 'Index'\n",
      "To silence this warning, decorate the function with @tf.autograph.experimental.do_not_convert\n"
     ]
    }
   ]
  },
  {
   "source": [
    "### Hyperparams\n",
    "dim_stochastic = 40\n",
    "learning_rate = 1e-8\n",
    "kl_weight = 1.0\n",
    "training = False\n",
    "\n",
    "### Training\n",
    "if training:\n",
    "    (x_train, _), (x_test, _) = keras.datasets.mnist.load_data()\n",
    "    mnist_digits = np.concatenate([x_train, x_test], axis=0)\n",
    "    mnist_digits = np.expand_dims(mnist_digits, -1).astype(\"float32\") / 255\n",
    "\n",
    "    vae = VAE_MNIST(dim_stochastic, kl_weight, learning_rate).build_vae_keras_model()\n",
    "    vae.compile(optimizer=keras.optimizers.Adam())\n",
    "    vae.fit(mnist_digits, epochs=30, batch_size=128)\n",
    "\n",
    "    vae.save(\"conv_vae.h5\")\n",
    "else:\n",
    "    vae = keras.models.load_model(\"conv_vae.h5\")"
   ],
   "cell_type": "code",
   "metadata": {},
   "execution_count": 11,
   "outputs": [
    {
     "output_type": "stream",
     "name": "stdout",
     "text": [
      "WARNING:tensorflow:Error in loading the saved optimizer state. As a result, your model is starting with a freshly initialized optimizer.\n",
      "WARNING:tensorflow:Error in loading the saved optimizer state. As a result, your model is starting with a freshly initialized optimizer.\n"
     ]
    }
   ]
  },
  {
   "cell_type": "code",
   "execution_count": 12,
   "metadata": {},
   "outputs": [],
   "source": [
    "x = next(iter(train_dataset))[0][0]"
   ]
  },
  {
   "cell_type": "code",
   "execution_count": 29,
   "metadata": {},
   "outputs": [
    {
     "output_type": "display_data",
     "data": {
      "text/plain": "<Figure size 432x288 with 1 Axes>",
      "image/svg+xml": "<?xml version=\"1.0\" encoding=\"utf-8\" standalone=\"no\"?>\n<!DOCTYPE svg PUBLIC \"-//W3C//DTD SVG 1.1//EN\"\n  \"http://www.w3.org/Graphics/SVG/1.1/DTD/svg11.dtd\">\n<!-- Created with matplotlib (https://matplotlib.org/) -->\n<svg height=\"248.518125pt\" version=\"1.1\" viewBox=\"0 0 251.565 248.518125\" width=\"251.565pt\" xmlns=\"http://www.w3.org/2000/svg\" xmlns:xlink=\"http://www.w3.org/1999/xlink\">\n <metadata>\n  <rdf:RDF xmlns:cc=\"http://creativecommons.org/ns#\" xmlns:dc=\"http://purl.org/dc/elements/1.1/\" xmlns:rdf=\"http://www.w3.org/1999/02/22-rdf-syntax-ns#\">\n   <cc:Work>\n    <dc:type rdf:resource=\"http://purl.org/dc/dcmitype/StillImage\"/>\n    <dc:date>2021-06-02T12:11:10.800960</dc:date>\n    <dc:format>image/svg+xml</dc:format>\n    <dc:creator>\n     <cc:Agent>\n      <dc:title>Matplotlib v3.3.4, https://matplotlib.org/</dc:title>\n     </cc:Agent>\n    </dc:creator>\n   </cc:Work>\n  </rdf:RDF>\n </metadata>\n <defs>\n  <style type=\"text/css\">*{stroke-linecap:butt;stroke-linejoin:round;}</style>\n </defs>\n <g id=\"figure_1\">\n  <g id=\"patch_1\">\n   <path d=\"M 0 248.518125 \nL 251.565 248.518125 \nL 251.565 0 \nL 0 0 \nz\n\" style=\"fill:none;\"/>\n  </g>\n  <g id=\"axes_1\">\n   <g id=\"patch_2\">\n    <path d=\"M 26.925 224.64 \nL 244.365 224.64 \nL 244.365 7.2 \nL 26.925 7.2 \nz\n\" style=\"fill:#ffffff;\"/>\n   </g>\n   <g clip-path=\"url(#pd71e676afb)\">\n    <image height=\"218\" id=\"image4772f02a11\" transform=\"scale(1 -1)translate(0 -218)\" width=\"218\" x=\"26.925\" xlink:href=\"data:image/png;base64,\niVBORw0KGgoAAAANSUhEUgAAANoAAADaCAYAAADAHVzbAAADbElEQVR4nO3dUY4TMRBAQQdx/yuHA7BkhCw/jydV/wuzoKeW0urJa4zxHsBSv3Y/AHwDoUFAaBAQGgSEBgGhQUBoEBAaBIQGAaFBQGgQEBoEhAYBoUFAaBAQGgSEBgGhQUBoEBAaBIQGAaFBQGgQEBoEhAYBoUFAaBAQGgSEBgGhQeD37ge4q/d737dZvV6vbX83a5hoEBAaBIQGAaFBQGgQEBoEhAYBe7QbWr3Ds6frmWgQEBoEhAYBoUFAaBAQGgSEBoHXGGPf4dVCO+/Jxli7q3Irdx4TDQJCg4DQICA0CAgNAkKDgNAg4B7tH+68L7p6tt07RP5mokFAaBAQGgSEBgGhQUBoEPDx/gazH79ffbw/s5q4erbVz/5UJhoEhAYBoUFAaBAQGgSEBgGhQeDo182tPAeZ3ffMPNvJu6Zv/b2vmGgQEBoEhAYBoUFAaBAQGgSEBoGvvUfbubN58r5o5lV4Vzu4k//dTDQICA0CQoOA0CAgNAgIDQJCg8DRe7RPexXvJ7ynmf+zk5loEBAaBIQGAaFBQGgQEBoEjn7d3IzVH+977drP7vyKwJVMNAgIDQJCg4DQICA0CAgNAkKDwNFnMp84g7knZzLAMkKDgNAgIDQICA0CQoOA0CDw2D3a7L3Yyj3ck/dF/MxEg4DQICA0CAgNAkKDgNAgIDQIfO17HWft3IU99VbuyTeEJhoEhAYBoUFAaBAQGgSEBgGhQeCx92icZ+V3zu1mokFAaBAQGgSEBgGhQUBoEHAms4gzmv/nTAaYIjQICA0CQoOA0CAgNAgIDQLOZBbZ+bVNV3/+nfdNT2WiQUBoEBAaBIQGAaFBQGgQEBoEhAYBoUFAaBAQGgSEBgGhQUBoEBAaBNyjbTB7DzZ7z/bp592qrWGiQUBoEBAaBIQGAaFBQGgQEBoE7NEOdLXrmtmzPfk7ynYy0SAgNAgIDQJCg4DQICA0CPh4n9TM+uDk1YGJBgGhQUBoEBAaBIQGAaFBQGgQeI0x5u4i+CqzZzSfnLwnu2KiQUBoEBAaBIQGAaFBQGgQEBoE7NEgYKJBQGgQEBoEhAYBoUFAaBAQGgSEBgGhQUBoEBAaBIQGAaFBQGgQEBoEhAYBoUFAaBAQGgSEBgGhQUBoEBAaBIQGAaFBQGgQEBoEhAYBoUFAaBD4A4cbeMVAm5huAAAAAElFTkSuQmCC\" y=\"-6.64\"/>\n   </g>\n   <g id=\"matplotlib.axis_1\">\n    <g id=\"xtick_1\">\n     <g id=\"line2d_1\">\n      <defs>\n       <path d=\"M 0 0 \nL 0 3.5 \n\" id=\"mf104226d37\" style=\"stroke:#000000;stroke-width:0.8;\"/>\n      </defs>\n      <g>\n       <use style=\"stroke:#000000;stroke-width:0.8;\" x=\"30.807857\" xlink:href=\"#mf104226d37\" y=\"224.64\"/>\n      </g>\n     </g>\n     <g id=\"text_1\">\n      <!-- 0 -->\n      <g transform=\"translate(27.626607 239.238437)scale(0.1 -0.1)\">\n       <defs>\n        <path d=\"M 31.78125 66.40625 \nQ 24.171875 66.40625 20.328125 58.90625 \nQ 16.5 51.421875 16.5 36.375 \nQ 16.5 21.390625 20.328125 13.890625 \nQ 24.171875 6.390625 31.78125 6.390625 \nQ 39.453125 6.390625 43.28125 13.890625 \nQ 47.125 21.390625 47.125 36.375 \nQ 47.125 51.421875 43.28125 58.90625 \nQ 39.453125 66.40625 31.78125 66.40625 \nz\nM 31.78125 74.21875 \nQ 44.046875 74.21875 50.515625 64.515625 \nQ 56.984375 54.828125 56.984375 36.375 \nQ 56.984375 17.96875 50.515625 8.265625 \nQ 44.046875 -1.421875 31.78125 -1.421875 \nQ 19.53125 -1.421875 13.0625 8.265625 \nQ 6.59375 17.96875 6.59375 36.375 \nQ 6.59375 54.828125 13.0625 64.515625 \nQ 19.53125 74.21875 31.78125 74.21875 \nz\n\" id=\"DejaVuSans-48\"/>\n       </defs>\n       <use xlink:href=\"#DejaVuSans-48\"/>\n      </g>\n     </g>\n    </g>\n    <g id=\"xtick_2\">\n     <g id=\"line2d_2\">\n      <g>\n       <use style=\"stroke:#000000;stroke-width:0.8;\" x=\"69.636429\" xlink:href=\"#mf104226d37\" y=\"224.64\"/>\n      </g>\n     </g>\n     <g id=\"text_2\">\n      <!-- 5 -->\n      <g transform=\"translate(66.455179 239.238437)scale(0.1 -0.1)\">\n       <defs>\n        <path d=\"M 10.796875 72.90625 \nL 49.515625 72.90625 \nL 49.515625 64.59375 \nL 19.828125 64.59375 \nL 19.828125 46.734375 \nQ 21.96875 47.46875 24.109375 47.828125 \nQ 26.265625 48.1875 28.421875 48.1875 \nQ 40.625 48.1875 47.75 41.5 \nQ 54.890625 34.8125 54.890625 23.390625 \nQ 54.890625 11.625 47.5625 5.09375 \nQ 40.234375 -1.421875 26.90625 -1.421875 \nQ 22.3125 -1.421875 17.546875 -0.640625 \nQ 12.796875 0.140625 7.71875 1.703125 \nL 7.71875 11.625 \nQ 12.109375 9.234375 16.796875 8.0625 \nQ 21.484375 6.890625 26.703125 6.890625 \nQ 35.15625 6.890625 40.078125 11.328125 \nQ 45.015625 15.765625 45.015625 23.390625 \nQ 45.015625 31 40.078125 35.4375 \nQ 35.15625 39.890625 26.703125 39.890625 \nQ 22.75 39.890625 18.8125 39.015625 \nQ 14.890625 38.140625 10.796875 36.28125 \nz\n\" id=\"DejaVuSans-53\"/>\n       </defs>\n       <use xlink:href=\"#DejaVuSans-53\"/>\n      </g>\n     </g>\n    </g>\n    <g id=\"xtick_3\">\n     <g id=\"line2d_3\">\n      <g>\n       <use style=\"stroke:#000000;stroke-width:0.8;\" x=\"108.465\" xlink:href=\"#mf104226d37\" y=\"224.64\"/>\n      </g>\n     </g>\n     <g id=\"text_3\">\n      <!-- 10 -->\n      <g transform=\"translate(102.1025 239.238437)scale(0.1 -0.1)\">\n       <defs>\n        <path d=\"M 12.40625 8.296875 \nL 28.515625 8.296875 \nL 28.515625 63.921875 \nL 10.984375 60.40625 \nL 10.984375 69.390625 \nL 28.421875 72.90625 \nL 38.28125 72.90625 \nL 38.28125 8.296875 \nL 54.390625 8.296875 \nL 54.390625 0 \nL 12.40625 0 \nz\n\" id=\"DejaVuSans-49\"/>\n       </defs>\n       <use xlink:href=\"#DejaVuSans-49\"/>\n       <use x=\"63.623047\" xlink:href=\"#DejaVuSans-48\"/>\n      </g>\n     </g>\n    </g>\n    <g id=\"xtick_4\">\n     <g id=\"line2d_4\">\n      <g>\n       <use style=\"stroke:#000000;stroke-width:0.8;\" x=\"147.293571\" xlink:href=\"#mf104226d37\" y=\"224.64\"/>\n      </g>\n     </g>\n     <g id=\"text_4\">\n      <!-- 15 -->\n      <g transform=\"translate(140.931071 239.238437)scale(0.1 -0.1)\">\n       <use xlink:href=\"#DejaVuSans-49\"/>\n       <use x=\"63.623047\" xlink:href=\"#DejaVuSans-53\"/>\n      </g>\n     </g>\n    </g>\n    <g id=\"xtick_5\">\n     <g id=\"line2d_5\">\n      <g>\n       <use style=\"stroke:#000000;stroke-width:0.8;\" x=\"186.122143\" xlink:href=\"#mf104226d37\" y=\"224.64\"/>\n      </g>\n     </g>\n     <g id=\"text_5\">\n      <!-- 20 -->\n      <g transform=\"translate(179.759643 239.238437)scale(0.1 -0.1)\">\n       <defs>\n        <path d=\"M 19.1875 8.296875 \nL 53.609375 8.296875 \nL 53.609375 0 \nL 7.328125 0 \nL 7.328125 8.296875 \nQ 12.9375 14.109375 22.625 23.890625 \nQ 32.328125 33.6875 34.8125 36.53125 \nQ 39.546875 41.84375 41.421875 45.53125 \nQ 43.3125 49.21875 43.3125 52.78125 \nQ 43.3125 58.59375 39.234375 62.25 \nQ 35.15625 65.921875 28.609375 65.921875 \nQ 23.96875 65.921875 18.8125 64.3125 \nQ 13.671875 62.703125 7.8125 59.421875 \nL 7.8125 69.390625 \nQ 13.765625 71.78125 18.9375 73 \nQ 24.125 74.21875 28.421875 74.21875 \nQ 39.75 74.21875 46.484375 68.546875 \nQ 53.21875 62.890625 53.21875 53.421875 \nQ 53.21875 48.921875 51.53125 44.890625 \nQ 49.859375 40.875 45.40625 35.40625 \nQ 44.1875 33.984375 37.640625 27.21875 \nQ 31.109375 20.453125 19.1875 8.296875 \nz\n\" id=\"DejaVuSans-50\"/>\n       </defs>\n       <use xlink:href=\"#DejaVuSans-50\"/>\n       <use x=\"63.623047\" xlink:href=\"#DejaVuSans-48\"/>\n      </g>\n     </g>\n    </g>\n    <g id=\"xtick_6\">\n     <g id=\"line2d_6\">\n      <g>\n       <use style=\"stroke:#000000;stroke-width:0.8;\" x=\"224.950714\" xlink:href=\"#mf104226d37\" y=\"224.64\"/>\n      </g>\n     </g>\n     <g id=\"text_6\">\n      <!-- 25 -->\n      <g transform=\"translate(218.588214 239.238437)scale(0.1 -0.1)\">\n       <use xlink:href=\"#DejaVuSans-50\"/>\n       <use x=\"63.623047\" xlink:href=\"#DejaVuSans-53\"/>\n      </g>\n     </g>\n    </g>\n   </g>\n   <g id=\"matplotlib.axis_2\">\n    <g id=\"ytick_1\">\n     <g id=\"line2d_7\">\n      <defs>\n       <path d=\"M 0 0 \nL -3.5 0 \n\" id=\"m70d2a6f661\" style=\"stroke:#000000;stroke-width:0.8;\"/>\n      </defs>\n      <g>\n       <use style=\"stroke:#000000;stroke-width:0.8;\" x=\"26.925\" xlink:href=\"#m70d2a6f661\" y=\"11.082857\"/>\n      </g>\n     </g>\n     <g id=\"text_7\">\n      <!-- 0 -->\n      <g transform=\"translate(13.5625 14.882076)scale(0.1 -0.1)\">\n       <use xlink:href=\"#DejaVuSans-48\"/>\n      </g>\n     </g>\n    </g>\n    <g id=\"ytick_2\">\n     <g id=\"line2d_8\">\n      <g>\n       <use style=\"stroke:#000000;stroke-width:0.8;\" x=\"26.925\" xlink:href=\"#m70d2a6f661\" y=\"49.911429\"/>\n      </g>\n     </g>\n     <g id=\"text_8\">\n      <!-- 5 -->\n      <g transform=\"translate(13.5625 53.710647)scale(0.1 -0.1)\">\n       <use xlink:href=\"#DejaVuSans-53\"/>\n      </g>\n     </g>\n    </g>\n    <g id=\"ytick_3\">\n     <g id=\"line2d_9\">\n      <g>\n       <use style=\"stroke:#000000;stroke-width:0.8;\" x=\"26.925\" xlink:href=\"#m70d2a6f661\" y=\"88.74\"/>\n      </g>\n     </g>\n     <g id=\"text_9\">\n      <!-- 10 -->\n      <g transform=\"translate(7.2 92.539219)scale(0.1 -0.1)\">\n       <use xlink:href=\"#DejaVuSans-49\"/>\n       <use x=\"63.623047\" xlink:href=\"#DejaVuSans-48\"/>\n      </g>\n     </g>\n    </g>\n    <g id=\"ytick_4\">\n     <g id=\"line2d_10\">\n      <g>\n       <use style=\"stroke:#000000;stroke-width:0.8;\" x=\"26.925\" xlink:href=\"#m70d2a6f661\" y=\"127.568571\"/>\n      </g>\n     </g>\n     <g id=\"text_10\">\n      <!-- 15 -->\n      <g transform=\"translate(7.2 131.36779)scale(0.1 -0.1)\">\n       <use xlink:href=\"#DejaVuSans-49\"/>\n       <use x=\"63.623047\" xlink:href=\"#DejaVuSans-53\"/>\n      </g>\n     </g>\n    </g>\n    <g id=\"ytick_5\">\n     <g id=\"line2d_11\">\n      <g>\n       <use style=\"stroke:#000000;stroke-width:0.8;\" x=\"26.925\" xlink:href=\"#m70d2a6f661\" y=\"166.397143\"/>\n      </g>\n     </g>\n     <g id=\"text_11\">\n      <!-- 20 -->\n      <g transform=\"translate(7.2 170.196362)scale(0.1 -0.1)\">\n       <use xlink:href=\"#DejaVuSans-50\"/>\n       <use x=\"63.623047\" xlink:href=\"#DejaVuSans-48\"/>\n      </g>\n     </g>\n    </g>\n    <g id=\"ytick_6\">\n     <g id=\"line2d_12\">\n      <g>\n       <use style=\"stroke:#000000;stroke-width:0.8;\" x=\"26.925\" xlink:href=\"#m70d2a6f661\" y=\"205.225714\"/>\n      </g>\n     </g>\n     <g id=\"text_12\">\n      <!-- 25 -->\n      <g transform=\"translate(7.2 209.024933)scale(0.1 -0.1)\">\n       <use xlink:href=\"#DejaVuSans-50\"/>\n       <use x=\"63.623047\" xlink:href=\"#DejaVuSans-53\"/>\n      </g>\n     </g>\n    </g>\n   </g>\n   <g id=\"patch_3\">\n    <path d=\"M 26.925 224.64 \nL 26.925 7.2 \n\" style=\"fill:none;stroke:#000000;stroke-linecap:square;stroke-linejoin:miter;stroke-width:0.8;\"/>\n   </g>\n   <g id=\"patch_4\">\n    <path d=\"M 244.365 224.64 \nL 244.365 7.2 \n\" style=\"fill:none;stroke:#000000;stroke-linecap:square;stroke-linejoin:miter;stroke-width:0.8;\"/>\n   </g>\n   <g id=\"patch_5\">\n    <path d=\"M 26.925 224.64 \nL 244.365 224.64 \n\" style=\"fill:none;stroke:#000000;stroke-linecap:square;stroke-linejoin:miter;stroke-width:0.8;\"/>\n   </g>\n   <g id=\"patch_6\">\n    <path d=\"M 26.925 7.2 \nL 244.365 7.2 \n\" style=\"fill:none;stroke:#000000;stroke-linecap:square;stroke-linejoin:miter;stroke-width:0.8;\"/>\n   </g>\n  </g>\n </g>\n <defs>\n  <clipPath id=\"pd71e676afb\">\n   <rect height=\"217.44\" width=\"217.44\" x=\"26.925\" y=\"7.2\"/>\n  </clipPath>\n </defs>\n</svg>\n",
      "image/png": "[encoded data removed]"
     },
     "metadata": {
      "needs_background": "light"
     }
    },
    {
     "output_type": "display_data",
     "data": {
      "text/plain": "<Figure size 432x288 with 1 Axes>",
      "image/svg+xml": "<?xml version=\"1.0\" encoding=\"utf-8\" standalone=\"no\"?>\n<!DOCTYPE svg PUBLIC \"-//W3C//DTD SVG 1.1//EN\"\n  \"http://www.w3.org/Graphics/SVG/1.1/DTD/svg11.dtd\">\n<!-- Created with matplotlib (https://matplotlib.org/) -->\n<svg height=\"248.518125pt\" version=\"1.1\" viewBox=\"0 0 251.565 248.518125\" width=\"251.565pt\" xmlns=\"http://www.w3.org/2000/svg\" xmlns:xlink=\"http://www.w3.org/1999/xlink\">\n <metadata>\n  <rdf:RDF xmlns:cc=\"http://creativecommons.org/ns#\" xmlns:dc=\"http://purl.org/dc/elements/1.1/\" xmlns:rdf=\"http://www.w3.org/1999/02/22-rdf-syntax-ns#\">\n   <cc:Work>\n    <dc:type rdf:resource=\"http://purl.org/dc/dcmitype/StillImage\"/>\n    <dc:date>2021-06-02T12:11:11.016962</dc:date>\n    <dc:format>image/svg+xml</dc:format>\n    <dc:creator>\n     <cc:Agent>\n      <dc:title>Matplotlib v3.3.4, https://matplotlib.org/</dc:title>\n     </cc:Agent>\n    </dc:creator>\n   </cc:Work>\n  </rdf:RDF>\n </metadata>\n <defs>\n  <style type=\"text/css\">*{stroke-linecap:butt;stroke-linejoin:round;}</style>\n </defs>\n <g id=\"figure_1\">\n  <g id=\"patch_1\">\n   <path d=\"M 0 248.518125 \nL 251.565 248.518125 \nL 251.565 0 \nL 0 0 \nz\n\" style=\"fill:none;\"/>\n  </g>\n  <g id=\"axes_1\">\n   <g id=\"patch_2\">\n    <path d=\"M 26.925 224.64 \nL 244.365 224.64 \nL 244.365 7.2 \nL 26.925 7.2 \nz\n\" style=\"fill:#ffffff;\"/>\n   </g>\n   <g clip-path=\"url(#p0beeb0da09)\">\n    <image height=\"218\" id=\"imagecd5e7945a4\" transform=\"scale(1 -1)translate(0 -218)\" width=\"218\" x=\"26.925\" xlink:href=\"data:image/png;base64,\niVBORw0KGgoAAAANSUhEUgAAANoAAADaCAYAAADAHVzbAAAO80lEQVR4nO2dy2+V5RaH3213L5ReaaFga1vEUhDaUEixiIKXghLESwImYqJEhyYaJwydOCMaI8QYY5ygQaMmRipCaSrKVUwEa6EVKKVAubQUC9KbtKXnL3h/64SerJzB80yfvXY3e38/vuRbWetNbN68eSIIqqurlQ7t7e1RN23aNFmbnp4u/cyZM6XPzc2NupaWFllrUV9fL/37778v/ZQpU6LuoYcekrVjY2PSnzhxQvq6ujrpW1tbo66zs1PWbt68WfovvvhC+qeffjrqrN8sOztb+lu3bkmfSCSk7+7ujroZM2bIWutavUdaAPifQNAAHCBoAA4QNAAHCBqAAwQNwAGCBuBAYufOnbKP1tXVJd8gLy8v6iorK2VtWlqa9E1NTdKrfpTVo8vIyJD+2rVr0mdmZkp/9uzZqCssLJS1R44ckX716tXSp6amSn/69Omom5iQl0N45JFHpP/pp5+kLy4ujrpTp07J2tLSUunLysqk7+3tlb6vry/qrN7k4cOHpeeOBuAAQQNwgKABOEDQABwgaAAOEDQABwgagANJNdMVQghXr16VXvWEDh06JGtra2ult+aH1IyQNZv0119/ST8wMCD97NmzpVc9mSVLlsjaoqIi6a9fvy797t27pa+oqIi6GzduyNo9e/ZIb302dT2tWrVK1lp9tqNHj0qfn58v/UcffRR1Vm/y5s2b0nNHA3CAoAE4QNAAHCBoAA4QNAAHCBqAA8krV67IF2RlZd21t9bNWevFZs2aJb1aD5aSkiJrx8fHpV++fLn03377rfQPPPBA1FkjOAcOHJBerWwLwR4RUmvbvv/+e1m7adMm6a22SEFBQdRZj+efe+456a2WzsGDB6XfsmVL1M2ZM2dSf5s7GoADBA3AAYIG4ABBA3CAoAE4QNAAHCBoAA4kh4eH5QtGR0elv3PnTtQtWrRI1lpjNIsXL5b+8uXLUffbb7/JWnWsUgh2P0n1yUIIYXBwMOqSyaSstfpk58+fl/7BBx+UvqqqKuqefPJJWWv1Va3jjRYsWBB1DQ0Nstb6TdavXy+99Zv/+OOPUff666/LWmt8iDsagAMEDcABggbgAEEDcICgAThA0AAcIGgADiStORp1NFIIeqbMWu9lzau1t7dLr/p0ly5dkrVWv2fevHnSW2vZ1NFLf//9t6y15vCso5WsXtf+/fujrqamRtYeO3ZMegs1/zh9+nRZa83C7dq1S/qSkhLpx8bGos5au2jlhDsagAMEDcABggbgAEEDcICgAThA0AAcIGgADiSt/YdWT+fs2bNRd99998narq4u6UdGRqRXPRmrP1hXVyf9l19+Kb2aqwohhGeffTbqGhsbZe2OHTukt2bhrH7UsmXLos76bC+//LL0Fy9elP6rr76KuqVLl8ravXv3Sq/2fIZg98I6Ojqizuq7qn2VIXBHA3CBoAE4QNAAHCBoAA4QNAAHCBqAAwQNwIHE9u3b5XCT1ctSfRPrTKnOzk7pH3/8cenVfsOpU6fKWmu3ojV3ZfXh0tLSos46k+727dvSW3N+1vurWbvXXntN1lozX9acnvrshw8flrV5eXmT8lavKyMjI+p++eUXWWvtjOSOBuAAQQNwgKABOEDQABwgaAAOEDQABxKffPKJfLw/MDAg30A9Mh0aGpK1OTk50t9zj/5/QD1CP3DggKx97LHHpFfHUYVgf7be3t6oq6iokLXffPON9GoEJ4QQMjMzpW9tbY26oqIiWWuNPlm/uWoHVVdXy1rrN7WOqzp37pz0tbW1UWeNTanWQAjc0QBcIGgADhA0AAcIGoADBA3AAYIG4ABBA3AgOTg4KF/Q398v/Ysvvhh1v//+u6zNzs6W/sKFC9Krvom1bq6srEz61NRU6a01ferYJmut2ooVK6T/7LPPpH/ppZekV70u62gjdUxXCHY/6fr161HX3Nwsa60jpaz64uJi6bdt2xZ1GzZskLXWOBl3NAAHCBqAAwQNwAGCBuAAQQNwgKABOEDQABwwj236999/pd+3b1/U9fX1ydrZs2dLPzY2Jr06Mso6bsrqB6n3DsE+vkj1ynJzc2Wt1S+yPpu1rq6qqirq0tPTZe3ChQulv3btmvSqP7l161ZZa31v1vVk9QhVD9DKifW9cUcDcICgAThA0AAcIGgADhA0AAcIGoADBA3AgcR7770n9zqq3YkhhPDoo49G3alTp2St1ReZNm2a9G1tbVFnzQdZM1/j4+PSd3d3S5+VlRV11vFC1m5E9d4hhPDxxx9Lr2YIL1++LGut44nUvFkI+nubP3++rF23bp307777rvTl5eXSl5aWRp3a0xmCPd/IHQ3AAYIG4ABBA3CAoAE4QNAAHCBoAA4k586dK19graNTxxf9888/stZ6BG895laP4K0jfL777jvp6+vrpbcec4+OjkadtZLtzz//lN5iwYIF0qtH1adPn5a11iiKNSbz6quv3vXf3rFjh/Rr166V3rqeenp6os4aF7PaItzRABwgaAAOEDQABwgagAMEDcABggbgAEEDcCB55swZ+QLr+KOCgoKoy8nJkbXWWrQbN25Ir0ZdmpqaZK01BrN9+3bpV61aJf3Jkyfv+m9bx1VVVlZKr/pBIeh1dVaPLz8/X/rz589Lr8ZorF6Udb1YfTLr/dV6Q6tvypgMwP8BBA3AAYIG4ABBA3CAoAE4QNAAHCBoAA4ki4qK5AuKi4ul7+rqirr+/v5JvXd2drb0Fy9evCsXgj1vZmHNTj311FNRN336dFlrzQBac3znzp2TfuPGjVF36dIlWWv1k6zfXM3aWevmrl69Kr11vUymJ2xhzeFxRwNwgKABOEDQABwgaAAOEDQABwgagAMEDcCBpJpNCiGEO3fuSF9TUxN11tyVdazTkiVLpC8pKYm6ZDIpa62ejHVklPXZ1O5E6zu/9957pbd6hJs2bZK+tbU16qx5M6sXpY6ECiGE9vb2qLN+EzUv9t/Ud3R0SK92N1qzlYlEQnruaAAOEDQABwgagAMEDcABggbgAEEDcICgATiQaGhomFAvsGbG2traos7ay6jOVgtB9+hCCEHtpJwxY4asLSwslN6aGWtsbJRenQ1n7QC05smsnZINDQ3Sb9iwIeo+//xzWbt69WrpW1papH/iiSeiztqlWVdXJ/2+ffuktz77r7/+GnXWtZiZmSk9dzQABwgagAMEDcABggbgAEEDcICgATiQtNampaamSq/Wk6lRkRBCePPNN6U/duyY9Ooxt3VEz88//yz9/fffL/0rr7wi/aeffhp1U6dOlbXqaKMQdOsghBCWLl0q/Q8//BB11liUtVbNesytRqOsMRdrfGj9+vXS5+bmSq++d+vflZKSIj13NAAHCBqAAwQNwAGCBuAAQQNwgKABOEDQABxI5uXlyRccOnRI+pUrV0bd119/LWuPHj0qvRpbCEGvB7NWk1nr5F544QXp1fFDIYSQkZERdWvWrJG1w8PD0lurz6x+kVpXZ63psz6bNfo0d+7cqLNW1akjwkIIobm5WXp1XFUIIRw5ciTqrPWCVt+WOxqAAwQNwAGCBuAAQQNwgKABOEDQABwgaAAOJLu7u+ULrLVtqmdjrXR7+OGHpbeOJ5o/f37UWTNb1uyTtfpsaGhIevX3rf7g8ePHpVf9wxDsHuGKFSvu+m9XVVVJb626U/3NiQm5+TCUl5dLb62Es74XdS2np6fL2sWLF0vPHQ3AAYIG4ABBA3CAoAE4QNAAHCBoAA4QNAAHktbclrXnT+11tGbdrL9t7ZS8fft21Fk7IWtra6U/ceKE9NaxTqOjo1E3a9YsWfv2229Lb/Wq/vjjD+nVsVEdHR2yVu1lDCGEtLQ06QcHB6OupKRE1lrHgI2MjEhv9WXVLJ3Vw7Oude5oAA4QNAAHCBqAAwQNwAGCBuAAQQNwgKABOJDYunWrHAKyehcFBQVRZ81sWbNNPT090qtdetZuQ+ucr/r6eumLi4ulv3nzZtRduXJF1qqdkCHYZ7tVVlZO6v0n894HDx6U/tatW1FXXV0ta1tbW6XPz8+X3pqtVNeE1TctKiqSnjsagAMEDcABggbgAEEDcICgAThA0AAcSFrH0WRmZkqvRguscQ1rFMVaR6fWzX3wwQey9q233pLeetRsHduUSCSirre3V9Y+//zz0lvjINYqPTUuYo57TOJYJuv929raZO3y5cul3717t/TW96b+bdb6Qms8iDsagAMEDcABggbgAEEDcICgAThA0AAcIGgADiS2bNkix2Sso27UWjVrnZzVw7N6MqrvYvWq1BhLCCFs3LhR+j179kivRmGWLVsma0+ePCm9NQ5ife+qX6R6kyHYYzBz5syR/sKFC1E3Pj4ua0tLS6W3Rp+s6+nDDz+MunfeeUfWNjc3S88dDcABggbgAEEDcICgAThA0AAcIGgADhA0AAeS1pqsrKws6dXRSdaRT9YRQY2NjdKrtWkLFy6UtWvWrJF+27Zt0lvr5tRatZkzZ8ra9PR06a2ZMGt26vjx41FnrWRramqSvq+vT/p169ZFnXXU1pQpU6S3+of9/f3Sq5kya/5wYkK2o7mjAXhA0AAcIGgADhA0AAcIGoADBA3AAYIG4EDS6rns2rVL+meeeSbqrF13w8PD0lt9kdra2qizek3WTkmrBzhv3jzp1d+33nvnzp3SW79ZTU2N9Ko32t7eLmvfeOMN6a0jpfbu3Rt1Vg/Oup5Wrlwp/f79+6Vfu3Zt1Km+aAj2rBt3NAAHCBqAAwQNwAGCBuAAQQNwgKABOJC0HqkuWrRIejV6YD2+r6iokN4akykoKIg6a02e1ToYGBiQvqenR3p1PJH1CN16/G895lbHMoWgVwRaoyTWyjdrfKisrCzq1PhOCHokK4QQGhoapLdWEKrRKmuVXWdnp/Tc0QAcIGgADhA0AAcIGoADBA3AAYIG4ABBA3AgmZqaKl9g9S5yc3OjLiUlRdZavShrZZw6vmhwcFDWDg0NSZ+TkyO9OpYpBL1Szuq5lJeXS2/9ZlbP58yZM1FXWFgoa63v1Tq2qaWlJepGRkZkrdXbtMaHqqurpVe9T2s1otU/5I4G4ABBA3CAoAE4QNAAHCBoAA4QNAAHCBqAA/8BBietarZZW88AAAAASUVORK5CYII=\" y=\"-6.64\"/>\n   </g>\n   <g id=\"matplotlib.axis_1\">\n    <g id=\"xtick_1\">\n     <g id=\"line2d_1\">\n      <defs>\n       <path d=\"M 0 0 \nL 0 3.5 \n\" id=\"ma89c333798\" style=\"stroke:#000000;stroke-width:0.8;\"/>\n      </defs>\n      <g>\n       <use style=\"stroke:#000000;stroke-width:0.8;\" x=\"30.807857\" xlink:href=\"#ma89c333798\" y=\"224.64\"/>\n      </g>\n     </g>\n     <g id=\"text_1\">\n      <!-- 0 -->\n      <g transform=\"translate(27.626607 239.238437)scale(0.1 -0.1)\">\n       <defs>\n        <path d=\"M 31.78125 66.40625 \nQ 24.171875 66.40625 20.328125 58.90625 \nQ 16.5 51.421875 16.5 36.375 \nQ 16.5 21.390625 20.328125 13.890625 \nQ 24.171875 6.390625 31.78125 6.390625 \nQ 39.453125 6.390625 43.28125 13.890625 \nQ 47.125 21.390625 47.125 36.375 \nQ 47.125 51.421875 43.28125 58.90625 \nQ 39.453125 66.40625 31.78125 66.40625 \nz\nM 31.78125 74.21875 \nQ 44.046875 74.21875 50.515625 64.515625 \nQ 56.984375 54.828125 56.984375 36.375 \nQ 56.984375 17.96875 50.515625 8.265625 \nQ 44.046875 -1.421875 31.78125 -1.421875 \nQ 19.53125 -1.421875 13.0625 8.265625 \nQ 6.59375 17.96875 6.59375 36.375 \nQ 6.59375 54.828125 13.0625 64.515625 \nQ 19.53125 74.21875 31.78125 74.21875 \nz\n\" id=\"DejaVuSans-48\"/>\n       </defs>\n       <use xlink:href=\"#DejaVuSans-48\"/>\n      </g>\n     </g>\n    </g>\n    <g id=\"xtick_2\">\n     <g id=\"line2d_2\">\n      <g>\n       <use style=\"stroke:#000000;stroke-width:0.8;\" x=\"69.636429\" xlink:href=\"#ma89c333798\" y=\"224.64\"/>\n      </g>\n     </g>\n     <g id=\"text_2\">\n      <!-- 5 -->\n      <g transform=\"translate(66.455179 239.238437)scale(0.1 -0.1)\">\n       <defs>\n        <path d=\"M 10.796875 72.90625 \nL 49.515625 72.90625 \nL 49.515625 64.59375 \nL 19.828125 64.59375 \nL 19.828125 46.734375 \nQ 21.96875 47.46875 24.109375 47.828125 \nQ 26.265625 48.1875 28.421875 48.1875 \nQ 40.625 48.1875 47.75 41.5 \nQ 54.890625 34.8125 54.890625 23.390625 \nQ 54.890625 11.625 47.5625 5.09375 \nQ 40.234375 -1.421875 26.90625 -1.421875 \nQ 22.3125 -1.421875 17.546875 -0.640625 \nQ 12.796875 0.140625 7.71875 1.703125 \nL 7.71875 11.625 \nQ 12.109375 9.234375 16.796875 8.0625 \nQ 21.484375 6.890625 26.703125 6.890625 \nQ 35.15625 6.890625 40.078125 11.328125 \nQ 45.015625 15.765625 45.015625 23.390625 \nQ 45.015625 31 40.078125 35.4375 \nQ 35.15625 39.890625 26.703125 39.890625 \nQ 22.75 39.890625 18.8125 39.015625 \nQ 14.890625 38.140625 10.796875 36.28125 \nz\n\" id=\"DejaVuSans-53\"/>\n       </defs>\n       <use xlink:href=\"#DejaVuSans-53\"/>\n      </g>\n     </g>\n    </g>\n    <g id=\"xtick_3\">\n     <g id=\"line2d_3\">\n      <g>\n       <use style=\"stroke:#000000;stroke-width:0.8;\" x=\"108.465\" xlink:href=\"#ma89c333798\" y=\"224.64\"/>\n      </g>\n     </g>\n     <g id=\"text_3\">\n      <!-- 10 -->\n      <g transform=\"translate(102.1025 239.238437)scale(0.1 -0.1)\">\n       <defs>\n        <path d=\"M 12.40625 8.296875 \nL 28.515625 8.296875 \nL 28.515625 63.921875 \nL 10.984375 60.40625 \nL 10.984375 69.390625 \nL 28.421875 72.90625 \nL 38.28125 72.90625 \nL 38.28125 8.296875 \nL 54.390625 8.296875 \nL 54.390625 0 \nL 12.40625 0 \nz\n\" id=\"DejaVuSans-49\"/>\n       </defs>\n       <use xlink:href=\"#DejaVuSans-49\"/>\n       <use x=\"63.623047\" xlink:href=\"#DejaVuSans-48\"/>\n      </g>\n     </g>\n    </g>\n    <g id=\"xtick_4\">\n     <g id=\"line2d_4\">\n      <g>\n       <use style=\"stroke:#000000;stroke-width:0.8;\" x=\"147.293571\" xlink:href=\"#ma89c333798\" y=\"224.64\"/>\n      </g>\n     </g>\n     <g id=\"text_4\">\n      <!-- 15 -->\n      <g transform=\"translate(140.931071 239.238437)scale(0.1 -0.1)\">\n       <use xlink:href=\"#DejaVuSans-49\"/>\n       <use x=\"63.623047\" xlink:href=\"#DejaVuSans-53\"/>\n      </g>\n     </g>\n    </g>\n    <g id=\"xtick_5\">\n     <g id=\"line2d_5\">\n      <g>\n       <use style=\"stroke:#000000;stroke-width:0.8;\" x=\"186.122143\" xlink:href=\"#ma89c333798\" y=\"224.64\"/>\n      </g>\n     </g>\n     <g id=\"text_5\">\n      <!-- 20 -->\n      <g transform=\"translate(179.759643 239.238437)scale(0.1 -0.1)\">\n       <defs>\n        <path d=\"M 19.1875 8.296875 \nL 53.609375 8.296875 \nL 53.609375 0 \nL 7.328125 0 \nL 7.328125 8.296875 \nQ 12.9375 14.109375 22.625 23.890625 \nQ 32.328125 33.6875 34.8125 36.53125 \nQ 39.546875 41.84375 41.421875 45.53125 \nQ 43.3125 49.21875 43.3125 52.78125 \nQ 43.3125 58.59375 39.234375 62.25 \nQ 35.15625 65.921875 28.609375 65.921875 \nQ 23.96875 65.921875 18.8125 64.3125 \nQ 13.671875 62.703125 7.8125 59.421875 \nL 7.8125 69.390625 \nQ 13.765625 71.78125 18.9375 73 \nQ 24.125 74.21875 28.421875 74.21875 \nQ 39.75 74.21875 46.484375 68.546875 \nQ 53.21875 62.890625 53.21875 53.421875 \nQ 53.21875 48.921875 51.53125 44.890625 \nQ 49.859375 40.875 45.40625 35.40625 \nQ 44.1875 33.984375 37.640625 27.21875 \nQ 31.109375 20.453125 19.1875 8.296875 \nz\n\" id=\"DejaVuSans-50\"/>\n       </defs>\n       <use xlink:href=\"#DejaVuSans-50\"/>\n       <use x=\"63.623047\" xlink:href=\"#DejaVuSans-48\"/>\n      </g>\n     </g>\n    </g>\n    <g id=\"xtick_6\">\n     <g id=\"line2d_6\">\n      <g>\n       <use style=\"stroke:#000000;stroke-width:0.8;\" x=\"224.950714\" xlink:href=\"#ma89c333798\" y=\"224.64\"/>\n      </g>\n     </g>\n     <g id=\"text_6\">\n      <!-- 25 -->\n      <g transform=\"translate(218.588214 239.238437)scale(0.1 -0.1)\">\n       <use xlink:href=\"#DejaVuSans-50\"/>\n       <use x=\"63.623047\" xlink:href=\"#DejaVuSans-53\"/>\n      </g>\n     </g>\n    </g>\n   </g>\n   <g id=\"matplotlib.axis_2\">\n    <g id=\"ytick_1\">\n     <g id=\"line2d_7\">\n      <defs>\n       <path d=\"M 0 0 \nL -3.5 0 \n\" id=\"md0ef074175\" style=\"stroke:#000000;stroke-width:0.8;\"/>\n      </defs>\n      <g>\n       <use style=\"stroke:#000000;stroke-width:0.8;\" x=\"26.925\" xlink:href=\"#md0ef074175\" y=\"11.082857\"/>\n      </g>\n     </g>\n     <g id=\"text_7\">\n      <!-- 0 -->\n      <g transform=\"translate(13.5625 14.882076)scale(0.1 -0.1)\">\n       <use xlink:href=\"#DejaVuSans-48\"/>\n      </g>\n     </g>\n    </g>\n    <g id=\"ytick_2\">\n     <g id=\"line2d_8\">\n      <g>\n       <use style=\"stroke:#000000;stroke-width:0.8;\" x=\"26.925\" xlink:href=\"#md0ef074175\" y=\"49.911429\"/>\n      </g>\n     </g>\n     <g id=\"text_8\">\n      <!-- 5 -->\n      <g transform=\"translate(13.5625 53.710647)scale(0.1 -0.1)\">\n       <use xlink:href=\"#DejaVuSans-53\"/>\n      </g>\n     </g>\n    </g>\n    <g id=\"ytick_3\">\n     <g id=\"line2d_9\">\n      <g>\n       <use style=\"stroke:#000000;stroke-width:0.8;\" x=\"26.925\" xlink:href=\"#md0ef074175\" y=\"88.74\"/>\n      </g>\n     </g>\n     <g id=\"text_9\">\n      <!-- 10 -->\n      <g transform=\"translate(7.2 92.539219)scale(0.1 -0.1)\">\n       <use xlink:href=\"#DejaVuSans-49\"/>\n       <use x=\"63.623047\" xlink:href=\"#DejaVuSans-48\"/>\n      </g>\n     </g>\n    </g>\n    <g id=\"ytick_4\">\n     <g id=\"line2d_10\">\n      <g>\n       <use style=\"stroke:#000000;stroke-width:0.8;\" x=\"26.925\" xlink:href=\"#md0ef074175\" y=\"127.568571\"/>\n      </g>\n     </g>\n     <g id=\"text_10\">\n      <!-- 15 -->\n      <g transform=\"translate(7.2 131.36779)scale(0.1 -0.1)\">\n       <use xlink:href=\"#DejaVuSans-49\"/>\n       <use x=\"63.623047\" xlink:href=\"#DejaVuSans-53\"/>\n      </g>\n     </g>\n    </g>\n    <g id=\"ytick_5\">\n     <g id=\"line2d_11\">\n      <g>\n       <use style=\"stroke:#000000;stroke-width:0.8;\" x=\"26.925\" xlink:href=\"#md0ef074175\" y=\"166.397143\"/>\n      </g>\n     </g>\n     <g id=\"text_11\">\n      <!-- 20 -->\n      <g transform=\"translate(7.2 170.196362)scale(0.1 -0.1)\">\n       <use xlink:href=\"#DejaVuSans-50\"/>\n       <use x=\"63.623047\" xlink:href=\"#DejaVuSans-48\"/>\n      </g>\n     </g>\n    </g>\n    <g id=\"ytick_6\">\n     <g id=\"line2d_12\">\n      <g>\n       <use style=\"stroke:#000000;stroke-width:0.8;\" x=\"26.925\" xlink:href=\"#md0ef074175\" y=\"205.225714\"/>\n      </g>\n     </g>\n     <g id=\"text_12\">\n      <!-- 25 -->\n      <g transform=\"translate(7.2 209.024933)scale(0.1 -0.1)\">\n       <use xlink:href=\"#DejaVuSans-50\"/>\n       <use x=\"63.623047\" xlink:href=\"#DejaVuSans-53\"/>\n      </g>\n     </g>\n    </g>\n   </g>\n   <g id=\"patch_3\">\n    <path d=\"M 26.925 224.64 \nL 26.925 7.2 \n\" style=\"fill:none;stroke:#000000;stroke-linecap:square;stroke-linejoin:miter;stroke-width:0.8;\"/>\n   </g>\n   <g id=\"patch_4\">\n    <path d=\"M 244.365 224.64 \nL 244.365 7.2 \n\" style=\"fill:none;stroke:#000000;stroke-linecap:square;stroke-linejoin:miter;stroke-width:0.8;\"/>\n   </g>\n   <g id=\"patch_5\">\n    <path d=\"M 26.925 224.64 \nL 244.365 224.64 \n\" style=\"fill:none;stroke:#000000;stroke-linecap:square;stroke-linejoin:miter;stroke-width:0.8;\"/>\n   </g>\n   <g id=\"patch_6\">\n    <path d=\"M 26.925 7.2 \nL 244.365 7.2 \n\" style=\"fill:none;stroke:#000000;stroke-linecap:square;stroke-linejoin:miter;stroke-width:0.8;\"/>\n   </g>\n  </g>\n </g>\n <defs>\n  <clipPath id=\"p0beeb0da09\">\n   <rect height=\"217.44\" width=\"217.44\" x=\"26.925\" y=\"7.2\"/>\n  </clipPath>\n </defs>\n</svg>\n",
      "image/png": "[encoded data removed]"
     },
     "metadata": {
      "needs_background": "light"
     }
    }
   ],
   "source": [
    "# playground\n",
    "# Nothing works, although the evaluation is quite good\n",
    "import matplotlib.pyplot as plt\n",
    "import numpy as np\n",
    "plt.imshow(x.numpy(), cmap=\"Greys\")\n",
    "plt.show()\n",
    "x_ = vae(tf.reshape(x, (1,28,28,1)))\n",
    "plt.imshow(x_.mean().numpy().reshape(28,28), cmap=\"Greys\")\n",
    "\n",
    "plt.show()\n",
    "vae.outputs\n"
   ]
  }
 ]
}